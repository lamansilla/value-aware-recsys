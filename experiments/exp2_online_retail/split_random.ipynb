{
 "cells": [
  {
   "cell_type": "code",
   "execution_count": null,
   "id": "4b022a67",
   "metadata": {},
   "outputs": [],
   "source": [
    "import numpy as np\n",
    "import matplotlib.pyplot as plt\n",
    "import pandas as pd\n",
    "import os"
   ]
  },
  {
   "cell_type": "code",
   "execution_count": null,
   "id": "48dbd6b9",
   "metadata": {},
   "outputs": [],
   "source": [
    "np.random.seed(42)"
   ]
  },
  {
   "cell_type": "code",
   "execution_count": null,
   "id": "872911ba",
   "metadata": {},
   "outputs": [],
   "source": [
    "df = pd.read_csv(\"online_retail_II_clean.csv\")"
   ]
  },
  {
   "cell_type": "code",
   "execution_count": null,
   "id": "288bf0f3",
   "metadata": {},
   "outputs": [],
   "source": [
    "df = df.groupby([\"Customer ID\", \"StockCode\"]).agg({\n",
    "    \"Quantity\": \"sum\",\n",
    "    \"Price\": \"mean\",\n",
    "}).reset_index()\n",
    "\n",
    "df[\"NetPrice\"] = df[\"Quantity\"] * df[\"Price\"]"
   ]
  },
  {
   "cell_type": "code",
   "execution_count": null,
   "id": "9950d1e4",
   "metadata": {},
   "outputs": [],
   "source": [
    "df_matrix = df.pivot_table(\n",
    "    index=\"Customer ID\",\n",
    "    columns=\"StockCode\",\n",
    "    values=\"NetPrice\",\n",
    "    fill_value=0\n",
    ")\n",
    "\n",
    "df_matrix.shape"
   ]
  },
  {
   "cell_type": "code",
   "execution_count": null,
   "id": "6ef94753",
   "metadata": {},
   "outputs": [],
   "source": [
    "S = df_matrix.values\n",
    "\n",
    "min_purchases = 20\n",
    "valid_users = S.astype(bool).sum(axis=1) >= min_purchases\n",
    "\n",
    "S = S[valid_users, :]\n",
    "\n",
    "print(f\"Matriz base: {S.shape[0]} usuarios, {S.shape[1]} productos\")"
   ]
  },
  {
   "cell_type": "code",
   "execution_count": null,
   "id": "d677d1b7",
   "metadata": {},
   "outputs": [],
   "source": [
    "num_splits = 50\n",
    "mask_prop = 0.5\n",
    "\n",
    "os.makedirs(\"splits_random\", exist_ok=True)"
   ]
  },
  {
   "cell_type": "code",
   "execution_count": null,
   "id": "1e3405e4",
   "metadata": {},
   "outputs": [],
   "source": [
    "for split in range(1, num_splits + 1):\n",
    "    np.random.seed(split)\n",
    "\n",
    "    mask = np.zeros_like(S, dtype=bool)\n",
    "\n",
    "    for i in range(S.shape[0]):\n",
    "        non_zero_indices = np.where(S[i] > 0)[0]\n",
    "        n_mask = max(1, int(mask_prop * len(non_zero_indices)))\n",
    "        if len(non_zero_indices) > 0:\n",
    "            masked_indices = np.random.choice(non_zero_indices, size=n_mask, replace=False)\n",
    "            mask[i, masked_indices] = True\n",
    "\n",
    "    # Generate train/test\n",
    "    S_train = S.copy()\n",
    "    S_train[mask] = 0\n",
    "    S_test = np.where(mask, S, 0)\n",
    "\n",
    "    # Filter users without purchases in train\n",
    "    valid_users = S_train.astype(bool).sum(axis=1) > 0\n",
    "    S_train = S_train[valid_users, :]\n",
    "    S_test = S_test[valid_users, :]\n",
    "\n",
    "    # Normalize (participation)\n",
    "    S_train_norm = S_train / S_train.sum()\n",
    "\n",
    "    # Create split directory\n",
    "    split_dir = f\"splits_random/split_{split:02d}\"\n",
    "    os.makedirs(split_dir, exist_ok=True)\n",
    "\n",
    "    # Save data\n",
    "    train_matrix = pd.DataFrame(S_train_norm, index=None, columns=None)\n",
    "    test_matrix = pd.DataFrame(S_test, index=None, columns=None)\n",
    "\n",
    "    train_matrix.to_csv(os.path.join(split_dir, \"train.csv\"), index=False)\n",
    "    test_matrix.to_csv(os.path.join(split_dir, \"test.csv\"), index=False)\n",
    "\n",
    "    np.save(os.path.join(split_dir, \"S_train.npy\"), S_train_norm)\n",
    "    np.save(os.path.join(split_dir, \"S_test.npy\"), S_test)\n",
    "\n",
    "    num_transactions_train = np.sum(S_train > 0)\n",
    "    num_transactions_test = np.sum(S_test > 0)\n",
    "    density_train = num_transactions_train / S_train.size\n",
    "    density_test = num_transactions_test / S_test.size\n",
    "\n",
    "    print(f\"Split {split:02d}:\")\n"
   ]
  }
 ],
 "metadata": {
  "kernelspec": {
   "display_name": "base",
   "language": "python",
   "name": "python3"
  },
  "language_info": {
   "codemirror_mode": {
    "name": "ipython",
    "version": 3
   },
   "file_extension": ".py",
   "mimetype": "text/x-python",
   "name": "python",
   "nbconvert_exporter": "python",
   "pygments_lexer": "ipython3",
   "version": "3.12.2"
  }
 },
 "nbformat": 4,
 "nbformat_minor": 5
}
